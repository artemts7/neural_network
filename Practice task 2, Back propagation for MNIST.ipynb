{
 "cells": [
  {
   "cell_type": "markdown",
   "metadata": {},
   "source": [
    "## Семинар 2 \"Распознавание рукописных цифр\""
   ]
  },
  {
   "cell_type": "markdown",
   "metadata": {},
   "source": [
    "ФИО: "
   ]
  },
  {
   "cell_type": "markdown",
   "metadata": {},
   "source": [
    "В этом задании мы используем нейронную сеть из предыдущего семинара для распознавания рукописных цифр. Также мы исследуем как влияет выбор нелинейности и предобработка данных на качество классификации. \n",
    "\n",
    "Чтобы не тратить время на подготовку данных, мы прилагаем готовый код с примером использования для получения обучающей и тестовой выборок. Для запуска скрипта вам понадобится библиотека PyTorch (инструкции по установке можно найти на сайте <a href=\"http://pytorch.org\">pytorch.org</a>)"
   ]
  },
  {
   "cell_type": "code",
   "execution_count": 1,
   "metadata": {},
   "outputs": [],
   "source": [
    "import matplotlib.pyplot as plt\n",
    "from torch.utils.data import DataLoader\n",
    "from torchvision.datasets import MNIST\n",
    "from torchvision import transforms\n",
    "import numpy as np\n",
    "from layers import Linear, Sigmoid, NLLLoss, NeuralNetwork # Results from Seminar 1\n",
    "%matplotlib inline"
   ]
  },
  {
   "cell_type": "code",
   "execution_count": 2,
   "metadata": {},
   "outputs": [],
   "source": [
    "transform = transforms.Compose([\n",
    "                       transforms.ToTensor(),\n",
    "                       transforms.Normalize((0.1307,), (0.3081,))\n",
    "                       ])\n",
    "train_dataset = MNIST('.', train=True, download=True, transform=transform) #хз нахер тут .\n",
    "test_dataset = MNIST('.', train=False, transform=transform)\n",
    "\n",
    "train_loader = DataLoader(train_dataset, batch_size=32, shuffle=True)\n",
    "test_loader = DataLoader(test_dataset, batch_size=32, shuffle=True)"
   ]
  },
  {
   "cell_type": "code",
   "execution_count": 3,
   "metadata": {},
   "outputs": [],
   "source": [
    "## Usage example:\n",
    "for X, y in train_loader:\n",
    "    X = X.view(X.shape[0], -1)\n",
    "    X = X.numpy() ### Converts torch.Tensor to numpy array\n",
    "    y = y.numpy()\n",
    "    \n",
    "    "
   ]
  },
  {
   "cell_type": "code",
   "execution_count": 4,
   "metadata": {},
   "outputs": [
    {
     "data": {
      "text/plain": [
       "(32, 784)"
      ]
     },
     "execution_count": 4,
     "metadata": {},
     "output_type": "execute_result"
    }
   ],
   "source": [
    "X.shape"
   ]
  },
  {
   "cell_type": "code",
   "execution_count": 5,
   "metadata": {},
   "outputs": [
    {
     "data": {
      "image/png": "[encoded data removed]",
      "text/plain": [
       "<Figure size 432x504 with 25 Axes>"
      ]
     },
     "metadata": {
      "needs_background": "light"
     },
     "output_type": "display_data"
    }
   ],
   "source": [
    "plt.figure(figsize=(6, 7))\n",
    "for i in range(25):\n",
    "    plt.subplot(5, 5, i+1)\n",
    "    plt.imshow(X[i].reshape(28, 28), cmap=plt.cm.Greys_r)\n",
    "    plt.title(y[i])\n",
    "    plt.axis('off')\n",
    "    "
   ]
  },
  {
   "cell_type": "markdown",
   "metadata": {},
   "source": [
    "### Часть 1: MNIST\n",
    "Обучите полносвязную нейронную сеть с архитектурой 784-100-100-10 и сигмоидой в качестве нелинейности. Какую точность классификации удалось получить? Нарисуйте график сходимости на обучающей и тестовой выборках. В качестве темпа обучения (learning rate) возьмите 0.01"
   ]
  },
  {
   "cell_type": "code",
   "execution_count": 6,
   "metadata": {},
   "outputs": [],
   "source": [
    "class ELU:\n",
    "    '''\n",
    "    ELU(x) = x, x > 0; a*(e^x - 1), x <= 0\n",
    "    '''\n",
    "    \n",
    "    def __init__(self, a=1):\n",
    "        self.a = a\n",
    "\n",
    "    def forward(self, X):\n",
    "        '''\n",
    "        Passes objects through this layer.\n",
    "        X is np.array of size (N, d)\n",
    "        '''\n",
    "        self.X = X\n",
    "        return X * (X > 0) + self.a * (np.exp(X) - 1) * (X <= 0)\n",
    "    \n",
    "    def backward(self, dLdy):\n",
    "        '''\n",
    "        1. Compute dLdx.\n",
    "        2. Return dLdx\n",
    "        '''\n",
    "        X = self.X\n",
    "        dydX = (X > 0) + self.a * np.exp(X) * (X <= 0)\n",
    "        return dLdy*dydX\n",
    "    def step(self, learning_rate):\n",
    "        pass\n",
    "\n",
    "    \n",
    "        "
   ]
  },
  {
   "cell_type": "code",
   "execution_count": null,
   "metadata": {},
   "outputs": [],
   "source": []
  },
  {
   "cell_type": "code",
   "execution_count": 7,
   "metadata": {},
   "outputs": [
    {
     "name": "stderr",
     "output_type": "stream",
     "text": [
      "100%|█████████████████████████████████████████████████████████████████████████████| 1875/1875 [00:16<00:00, 113.47it/s]\n",
      "100%|█████████████████████████████████████████████████████████████████████████████| 1875/1875 [00:16<00:00, 114.20it/s]\n",
      "100%|█████████████████████████████████████████████████████████████████████████████| 1875/1875 [00:16<00:00, 110.58it/s]\n",
      "100%|█████████████████████████████████████████████████████████████████████████████| 1875/1875 [00:16<00:00, 111.37it/s]\n",
      "100%|█████████████████████████████████████████████████████████████████████████████| 1875/1875 [00:16<00:00, 114.45it/s]\n",
      "100%|█████████████████████████████████████████████████████████████████████████████| 1875/1875 [00:16<00:00, 115.67it/s]\n",
      "100%|█████████████████████████████████████████████████████████████████████████████| 1875/1875 [00:16<00:00, 112.07it/s]\n",
      "100%|█████████████████████████████████████████████████████████████████████████████| 1875/1875 [00:16<00:00, 115.39it/s]\n",
      "100%|█████████████████████████████████████████████████████████████████████████████| 1875/1875 [00:16<00:00, 115.47it/s]\n",
      "100%|█████████████████████████████████████████████████████████████████████████████| 1875/1875 [00:16<00:00, 114.27it/s]\n"
     ]
    }
   ],
   "source": [
    "from tqdm import tqdm\n",
    "activate = ELU() #Функция акстивации\n",
    "arch = [Linear(784, 100), activate, Linear(100, 100), activate, Linear(100, 10)] #Архитектура нейронки\n",
    "losses_epoch = [] #Массив ошибок на каждой итерации\n",
    "loss_graph = [] #Разреженный loss\n",
    "nn = NeuralNetwork(arch) # Нейросеть \n",
    "loss = NLLLoss() # вид lossa\n",
    "epoch = 10\n",
    "train_accuracy_epochs = []\n",
    "for j in range(epoch):\n",
    "    losses = []\n",
    "    accuracies = []\n",
    "    for i, (X, y) in enumerate(tqdm(train_loader)):\n",
    "        X = X.view(X.shape[0], -1)\n",
    "        X = X.numpy() \n",
    "        y = y.numpy()\n",
    "\n",
    "        pred = nn.forward(X) # Делаем форвард\n",
    "        losses.append(loss.forward(pred, y)) # Добавляем loss\n",
    "        dLdpred = loss.backward() # Считаем dLdx\n",
    "        nn.backward(dLdpred) # обновляем весса\n",
    "        nn.step(0.01) #скорость обучения\n",
    "        accuracies.append((np.argmax(pred, 1)==y).mean())\n",
    "        if (i%20 == 0):\n",
    "            loss_graph.append(losses[i])\n",
    "    train_accuracy_epochs.append(np.mean(accuracies))\n",
    "    losses_epoch.append(np.mean(losses))\n",
    "    # разреженный loss\n",
    "    \n",
    "    "
   ]
  },
  {
   "cell_type": "code",
   "execution_count": 8,
   "metadata": {},
   "outputs": [
    {
     "data": {
      "text/plain": [
       "0.9547833333333333"
      ]
     },
     "execution_count": 8,
     "metadata": {},
     "output_type": "execute_result"
    }
   ],
   "source": [
    "train_accuracy_epochs[-1]"
   ]
  },
  {
   "cell_type": "code",
   "execution_count": 9,
   "metadata": {},
   "outputs": [
    {
     "data": {
      "text/plain": [
       "[<matplotlib.lines.Line2D at 0x2bc623d2ac8>]"
      ]
     },
     "execution_count": 9,
     "metadata": {},
     "output_type": "execute_result"
    },
    {
     "data": {
      "image/png": "[encoded data removed]",
      "text/plain": [
       "<Figure size 432x288 with 1 Axes>"
      ]
     },
     "metadata": {
      "needs_background": "light"
     },
     "output_type": "display_data"
    }
   ],
   "source": [
    "plt.plot(train_accuracy_epochs)"
   ]
  },
  {
   "cell_type": "code",
   "execution_count": 10,
   "metadata": {},
   "outputs": [
    {
     "data": {
      "text/plain": [
       "0.034245916636827176"
      ]
     },
     "execution_count": 10,
     "metadata": {},
     "output_type": "execute_result"
    }
   ],
   "source": [
    "losses[1874]"
   ]
  },
  {
   "cell_type": "markdown",
   "metadata": {},
   "source": [
    "### Часть 2: Нелинейности"
   ]
  },
  {
   "cell_type": "markdown",
   "metadata": {},
   "source": [
    "Обучите нейронную сеть с другими нелинейностями: ReLU и ELU. Сравните скорости сходимости и качество классификации с различными функциями активации."
   ]
  },
  {
   "cell_type": "code",
   "execution_count": null,
   "metadata": {},
   "outputs": [],
   "source": []
  },
  {
   "cell_type": "markdown",
   "metadata": {},
   "source": [
    "### Часть 3: Анализ ошибок\n",
    "На каких объектах сеть ошибается больше всего?"
   ]
  },
  {
   "cell_type": "code",
   "execution_count": null,
   "metadata": {},
   "outputs": [],
   "source": []
  },
  {
   "cell_type": "code",
   "execution_count": 11,
   "metadata": {},
   "outputs": [
    {
     "data": {
      "image/png": "[encoded data removed]",
      "text/plain": [
       "<Figure size 432x504 with 25 Axes>"
      ]
     },
     "metadata": {
      "needs_background": "light"
     },
     "output_type": "display_data"
    }
   ],
   "source": [
    "X, y = X[:25], y[:25]\n",
    "res = nn.forward(X)\n",
    "res = res.argmax(-1)\n",
    "\n",
    "\n",
    "plt.figure(figsize=(6, 7))\n",
    "for i in range(25):\n",
    "    plt.subplot(5, 5, i+1)\n",
    "    plt.imshow(X[i].reshape(28, 28), cmap=plt.cm.Greys_r)\n",
    "    plt.title('{} ({})'.format(y[i], res[i]))\n",
    "    plt.axis('off')\n",
    "    pass"
   ]
  },
  {
   "cell_type": "code",
   "execution_count": null,
   "metadata": {},
   "outputs": [],
   "source": []
  },
  {
   "cell_type": "markdown",
   "metadata": {},
   "source": [
    "### HW1 (1 балл): Реализовать Tanh"
   ]
  },
  {
   "cell_type": "markdown",
   "metadata": {},
   "source": [
    "### Часть 4: Аугментация (HW, 2 балла)\n",
    "* Небольшие вращения (-15, 15)\n",
    "* Случайные сдвиги\n",
    "* Шум\n",
    "\n",
    "Какой прирост дают эти аугментации вместе и по отдельности"
   ]
  },
  {
   "cell_type": "code",
   "execution_count": 12,
   "metadata": {},
   "outputs": [],
   "source": [
    "trans = transforms.Compose([\n",
    "                       transforms.RandomAffine(degrees = 15),\n",
    "                       transforms.ToTensor(),\n",
    "                       transforms.Normalize((0.1307,), (0.3081,))\n",
    "                       ])"
   ]
  },
  {
   "cell_type": "code",
   "execution_count": 13,
   "metadata": {},
   "outputs": [],
   "source": [
    "train_datasets_degr = MNIST('.', train = True, download = True, transform = trans )\n",
    "train_loader_degr = DataLoader(train_datasets_degr, batch_size=len(train_datasets_degr))\n"
   ]
  },
  {
   "cell_type": "code",
   "execution_count": 14,
   "metadata": {},
   "outputs": [],
   "source": [
    "transform = transforms.Compose([\n",
    "                       transforms.ToTensor(),\n",
    "                       transforms.Normalize((0.1307,), (0.3081,))\n",
    "                       ])\n",
    "train_dataset = MNIST('.', train=True, download=True, transform=transform) #хз нахер тут .\n",
    "test_dataset = MNIST('.', train=False, transform=transform)\n",
    "\n",
    "train_loader = DataLoader(train_dataset, batch_size = len(train_dataset))"
   ]
  },
  {
   "cell_type": "code",
   "execution_count": 15,
   "metadata": {},
   "outputs": [
    {
     "name": "stderr",
     "output_type": "stream",
     "text": [
      "100%|████████████████████████████████████████████████████████████████████████████████████| 1/1 [00:10<00:00, 10.28s/it]\n"
     ]
    }
   ],
   "source": [
    "tr_data = []\n",
    "for X, y in tqdm(train_loader):\n",
    "    X.numpy()\n",
    "    y.numpy()\n",
    "    for i in range(len(X)):\n",
    "        tr_data.append((X[i], y[i]))\n",
    "    \n",
    "    "
   ]
  },
  {
   "cell_type": "code",
   "execution_count": 16,
   "metadata": {},
   "outputs": [
    {
     "name": "stderr",
     "output_type": "stream",
     "text": [
      "100%|████████████████████████████████████████████████████████████████████████████████████| 1/1 [00:14<00:00, 14.20s/it]\n"
     ]
    }
   ],
   "source": [
    "for X, y in tqdm(train_loader_degr):\n",
    "    X.numpy()\n",
    "    y.numpy()\n",
    "    for i in range(len(X)):\n",
    "        tr_data.append((X[i], y[i]))\n"
   ]
  },
  {
   "cell_type": "code",
   "execution_count": 17,
   "metadata": {},
   "outputs": [],
   "source": [
    "train_lo = DataLoader(tr_data, batch_size = 32, shuffle = True)\n",
    "test_lo = DataLoader(test_dataset, batch_size = 32, shuffle = True)"
   ]
  },
  {
   "cell_type": "code",
   "execution_count": 18,
   "metadata": {},
   "outputs": [
    {
     "data": {
      "text/plain": [
       "120000"
      ]
     },
     "execution_count": 18,
     "metadata": {},
     "output_type": "execute_result"
    }
   ],
   "source": [
    "len(tr_data)"
   ]
  },
  {
   "cell_type": "code",
   "execution_count": 19,
   "metadata": {},
   "outputs": [
    {
     "name": "stderr",
     "output_type": "stream",
     "text": [
      "100%|█████████████████████████████████████████████████████████████████████████████| 3750/3750 [00:06<00:00, 540.49it/s]\n",
      "100%|█████████████████████████████████████████████████████████████████████████████| 3750/3750 [00:06<00:00, 576.08it/s]\n",
      "100%|█████████████████████████████████████████████████████████████████████████████| 3750/3750 [00:06<00:00, 572.40it/s]\n",
      "100%|█████████████████████████████████████████████████████████████████████████████| 3750/3750 [00:06<00:00, 577.00it/s]\n",
      "100%|█████████████████████████████████████████████████████████████████████████████| 3750/3750 [00:06<00:00, 567.31it/s]\n",
      "100%|█████████████████████████████████████████████████████████████████████████████| 3750/3750 [00:06<00:00, 536.31it/s]\n",
      "100%|█████████████████████████████████████████████████████████████████████████████| 3750/3750 [00:06<00:00, 578.29it/s]\n",
      "100%|█████████████████████████████████████████████████████████████████████████████| 3750/3750 [00:06<00:00, 569.80it/s]\n",
      "100%|█████████████████████████████████████████████████████████████████████████████| 3750/3750 [00:06<00:00, 573.32it/s]\n",
      "100%|█████████████████████████████████████████████████████████████████████████████| 3750/3750 [00:06<00:00, 550.91it/s]\n"
     ]
    }
   ],
   "source": [
    "from tqdm import tqdm\n",
    "activate = ELU() #Функция акстивации\n",
    "arch = [Linear(784, 100), activate, Linear(100, 100), activate, Linear(100, 10)] #Архитектура нейронки\n",
    "losses_epoch = [] #Массив ошибок на каждой итерации\n",
    "loss_graph = [] #Разреженный loss\n",
    "nn = NeuralNetwork(arch) # Нейросеть \n",
    "loss = NLLLoss() # вид lossa\n",
    "epoch = 10\n",
    "train_accuracy_epochs = []\n",
    "for j in range(epoch):\n",
    "    losses = []\n",
    "    accuracies = []\n",
    "    for i, (X, y) in enumerate(tqdm(train_lo)):\n",
    "        X = X.view(X.shape[0], -1)\n",
    "        X = X.numpy() \n",
    "        y = y.numpy()\n",
    "\n",
    "        pred = nn.forward(X) # Делаем форвард\n",
    "        losses.append(loss.forward(pred, y)) # Добавляем loss\n",
    "        dLdpred = loss.backward() # Считаем dLdx\n",
    "        nn.backward(dLdpred) # обновляем весса\n",
    "        nn.step(0.01) #скорость обучения\n",
    "        accuracies.append((np.argmax(pred, 1)==y).mean())\n",
    "        if (i%20 == 0):\n",
    "            loss_graph.append(losses[i])\n",
    "    train_accuracy_epochs.append(np.mean(accuracies))\n",
    "    losses_epoch.append(np.mean(losses))\n",
    "    # разреженный loss"
   ]
  },
  {
   "cell_type": "code",
   "execution_count": 20,
   "metadata": {},
   "outputs": [
    {
     "data": {
      "text/plain": [
       "0.9674083333333333"
      ]
     },
     "execution_count": 20,
     "metadata": {},
     "output_type": "execute_result"
    }
   ],
   "source": [
    "train_accuracy_epochs[-1]"
   ]
  },
  {
   "cell_type": "markdown",
   "metadata": {},
   "source": [
    "Обучите нейронную сеть с другими нелинейностями: ReLU и ELU. Сравните скорости сходимости и качество классификации с различными функциями активации."
   ]
  },
  {
   "cell_type": "code",
   "execution_count": 21,
   "metadata": {},
   "outputs": [
    {
     "data": {
      "text/plain": [
       "[<matplotlib.lines.Line2D at 0x2bc7aad4908>]"
      ]
     },
     "execution_count": 21,
     "metadata": {},
     "output_type": "execute_result"
    },
    {
     "data": {
      "image/png": "[encoded data removed]",
      "text/plain": [
       "<Figure size 432x288 with 1 Axes>"
      ]
     },
     "metadata": {
      "needs_background": "light"
     },
     "output_type": "display_data"
    }
   ],
   "source": [
    "plt.plot(train_accuracy_epochs)"
   ]
  },
  {
   "cell_type": "markdown",
   "metadata": {},
   "source": [
    "# СДВИГИ"
   ]
  },
  {
   "cell_type": "code",
   "execution_count": 51,
   "metadata": {},
   "outputs": [],
   "source": [
    "trans = transforms.Compose([\n",
    "                       transforms.RandomAffine(0, translate = (0.02, 0.02)),\n",
    "                       transforms.ToTensor(),\n",
    "                       transforms.Normalize((0.1307,), (0.3081,))\n",
    "                       ])"
   ]
  },
  {
   "cell_type": "code",
   "execution_count": 52,
   "metadata": {},
   "outputs": [],
   "source": [
    "train_datasets_degr = MNIST('.', train = True, download = True, transform = trans )\n",
    "train_loader_degr = DataLoader(train_datasets_degr, batch_size=len(train_datasets_degr))\n"
   ]
  },
  {
   "cell_type": "code",
   "execution_count": 53,
   "metadata": {},
   "outputs": [],
   "source": [
    "transform = transforms.Compose([\n",
    "                       transforms.ToTensor(),\n",
    "                       transforms.Normalize((0.1307,), (0.3081,))\n",
    "                       ])\n",
    "train_dataset = MNIST('.', train=True, download=True, transform=transform) #хз нахер тут .\n",
    "test_dataset = MNIST('.', train=False, transform=transform)\n",
    "\n",
    "train_loader = DataLoader(train_dataset, batch_size = len(train_dataset))"
   ]
  },
  {
   "cell_type": "code",
   "execution_count": 54,
   "metadata": {},
   "outputs": [
    {
     "name": "stderr",
     "output_type": "stream",
     "text": [
      "100%|████████████████████████████████████████████████████████████████████████████████████| 1/1 [00:10<00:00, 10.63s/it]\n"
     ]
    }
   ],
   "source": [
    "tr_data = []\n",
    "for X, y in tqdm(train_loader):\n",
    "    X.numpy()\n",
    "    y.numpy()\n",
    "    for i in range(len(X)):\n",
    "        tr_data.append((X[i], y[i]))"
   ]
  },
  {
   "cell_type": "code",
   "execution_count": 55,
   "metadata": {},
   "outputs": [
    {
     "name": "stderr",
     "output_type": "stream",
     "text": [
      "100%|████████████████████████████████████████████████████████████████████████████████████| 1/1 [00:15<00:00, 15.91s/it]\n"
     ]
    }
   ],
   "source": [
    "for X, y in tqdm(train_loader_degr):\n",
    "    X.numpy()\n",
    "    y.numpy()\n",
    "    for i in range(len(X)):\n",
    "        tr_data.append((X[i], y[i]))\n"
   ]
  },
  {
   "cell_type": "code",
   "execution_count": 56,
   "metadata": {},
   "outputs": [],
   "source": [
    "train_lo = DataLoader(tr_data, batch_size = 32, shuffle = True)\n",
    "test_lo = DataLoader(test_dataset, batch_size = 32, shuffle = True)"
   ]
  },
  {
   "cell_type": "code",
   "execution_count": 57,
   "metadata": {},
   "outputs": [
    {
     "name": "stderr",
     "output_type": "stream",
     "text": [
      "100%|█████████████████████████████████████████████████████████████████████████████| 3750/3750 [00:07<00:00, 488.41it/s]\n",
      "100%|█████████████████████████████████████████████████████████████████████████████| 3750/3750 [00:07<00:00, 507.65it/s]\n",
      "100%|█████████████████████████████████████████████████████████████████████████████| 3750/3750 [00:06<00:00, 544.67it/s]\n",
      "100%|█████████████████████████████████████████████████████████████████████████████| 3750/3750 [00:06<00:00, 551.96it/s]\n",
      "100%|█████████████████████████████████████████████████████████████████████████████| 3750/3750 [00:06<00:00, 557.15it/s]\n",
      "100%|█████████████████████████████████████████████████████████████████████████████| 3750/3750 [00:06<00:00, 560.89it/s]\n",
      "100%|█████████████████████████████████████████████████████████████████████████████| 3750/3750 [00:07<00:00, 489.78it/s]\n",
      "100%|█████████████████████████████████████████████████████████████████████████████| 3750/3750 [00:07<00:00, 482.94it/s]\n",
      "100%|█████████████████████████████████████████████████████████████████████████████| 3750/3750 [00:06<00:00, 560.94it/s]\n",
      "100%|█████████████████████████████████████████████████████████████████████████████| 3750/3750 [00:07<00:00, 530.51it/s]\n"
     ]
    }
   ],
   "source": [
    "from tqdm import tqdm\n",
    "activate = ELU() #Функция акстивации\n",
    "arch = [Linear(784, 100), activate, Linear(100, 100), activate, Linear(100, 10)] #Архитектура нейронки\n",
    "losses_epoch = [] #Массив ошибок на каждой итерации\n",
    "loss_graph = [] #Разреженный loss\n",
    "nn = NeuralNetwork(arch) # Нейросеть \n",
    "loss = NLLLoss() # вид lossa\n",
    "epoch = 10\n",
    "train_accuracy_epochs = []\n",
    "for j in range(epoch):\n",
    "    losses = []\n",
    "    accuracies = []\n",
    "    for i, (X, y) in enumerate(tqdm(train_lo)):\n",
    "        X = X.view(X.shape[0], -1)\n",
    "        X = X.numpy() \n",
    "        y = y.numpy()\n",
    "\n",
    "        pred = nn.forward(X) # Делаем форвард\n",
    "        losses.append(loss.forward(pred, y)) # Добавляем loss\n",
    "        dLdpred = loss.backward() # Считаем dLdx\n",
    "        nn.backward(dLdpred) # обновляем весса\n",
    "        nn.step(0.01) #скорость обучения\n",
    "        accuracies.append((np.argmax(pred, 1)==y).mean())\n",
    "        if (i%20 == 0):\n",
    "            loss_graph.append(losses[i])\n",
    "    train_accuracy_epochs.append(np.mean(accuracies))\n",
    "    losses_epoch.append(np.mean(losses))\n",
    "    # разреженный loss"
   ]
  },
  {
   "cell_type": "code",
   "execution_count": 59,
   "metadata": {},
   "outputs": [
    {
     "data": {
      "text/plain": [
       "0.971175"
      ]
     },
     "execution_count": 59,
     "metadata": {},
     "output_type": "execute_result"
    }
   ],
   "source": [
    "train_accuracy_epochs[-1]"
   ]
  },
  {
   "cell_type": "markdown",
   "metadata": {},
   "source": [
    "### Часть 5: Выводы\n",
    "Опишите полученные результаты: как влияют выбор нелинейности и предобработка данных на скорость сходимости и итоговое качество?"
   ]
  },
  {
   "cell_type": "code",
   "execution_count": null,
   "metadata": {},
   "outputs": [],
   "source": []
  }
 ],
 "metadata": {
  "kernelspec": {
   "display_name": "Python 3",
   "language": "python",
   "name": "python3"
  },
  "language_info": {
   "codemirror_mode": {
    "name": "ipython",
    "version": 3
   },
   "file_extension": ".py",
   "mimetype": "text/x-python",
   "name": "python",
   "nbconvert_exporter": "python",
   "pygments_lexer": "ipython3",
   "version": "3.7.4"
  }
 },
 "nbformat": 4,
 "nbformat_minor": 2
}
