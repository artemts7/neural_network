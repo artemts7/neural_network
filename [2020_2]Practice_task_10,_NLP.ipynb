{
 "cells": [
  {
   "cell_type": "markdown",
   "metadata": {
    "id": "vNfcF-a-RT71"
   },
   "source": [
    "## Семинар 10: \"Генерация текстов\""
   ]
  },
  {
   "cell_type": "markdown",
   "metadata": {
    "id": "re6zwjsVRT74"
   },
   "source": [
    "ФИО: "
   ]
  },
  {
   "cell_type": "code",
   "execution_count": 1,
   "metadata": {
    "id": "LJEU-kgmRT76"
   },
   "outputs": [],
   "source": [
    "import numpy as np\n",
    "import re\n",
    "from torch import nn\n",
    "from torch.autograd import Variable\n",
    "import matplotlib.pyplot as plt\n",
    "import torch\n",
    "from torch.utils.data import Dataset, DataLoader\n",
    "import sys\n",
    "from IPython.display import clear_output\n",
    "from tqdm.autonotebook import tqdm\n",
    "import progressbar\n",
    "%matplotlib inline"
   ]
  },
  {
   "cell_type": "markdown",
   "metadata": {
    "id": "4sa2nmquRT8E"
   },
   "source": [
    "Этот семинар посвящен чат-ботам. Вам предстоит реализовать модель, генерирующую определенные тексты. В качестве текстов можно взять сборник цитат умных людей, предсказаний и т.д. На семинаре мы используем данные https://github.com/alvations/Quotables/blob/master/author-quote.txt\n",
    "\n",
    "При реализации задания вы можете пользоваться кодом из этого примера: <a href=https://github.com/spro/practical-pytorch/blob/master/char-rnn-generation/char-rnn-generation.ipynb>Generating Shakespeare with a Character-Level RNN</a>"
   ]
  },
  {
   "cell_type": "markdown",
   "metadata": {
    "id": "1JmO9AyyRT8F"
   },
   "source": [
    "### Часть 1: подготовка данных"
   ]
  },
  {
   "cell_type": "markdown",
   "metadata": {
    "id": "mmxErCFwRT8G"
   },
   "source": [
    "Реализуйте датасет для дальнейшего обучения (будем использовать batch size=1)"
   ]
  },
  {
   "cell_type": "code",
   "execution_count": 3,
   "metadata": {
    "colab": {
     "base_uri": "https://localhost:8080/"
    },
    "id": "HQMpo7CARp0j",
    "outputId": "b1d50f4c-6826-4605-cd9b-f93774b855f4"
   },
   "outputs": [
    {
     "name": "stdout",
     "output_type": "stream",
     "text": [
      "--2020-11-05 17:13:31--  https://raw.githubusercontent.com/alvations/Quotables/master/author-quote.txt\n",
      "Resolving raw.githubusercontent.com (raw.githubusercontent.com)... 151.101.0.133, 151.101.64.133, 151.101.128.133, ...\n",
      "Connecting to raw.githubusercontent.com (raw.githubusercontent.com)|151.101.0.133|:443... connected.\n",
      "HTTP request sent, awaiting response... 200 OK\n",
      "Length: 5615127 (5.4M) [text/plain]\n",
      "Saving to: ‘author-quote.txt’\n",
      "\n",
      "\r",
      "author-quote.txt      0%[                    ]       0  --.-KB/s               \r",
      "author-quote.txt    100%[===================>]   5.35M  --.-KB/s    in 0.07s   \n",
      "\n",
      "2020-11-05 17:13:32 (79.7 MB/s) - ‘author-quote.txt’ saved [5615127/5615127]\n",
      "\n"
     ]
    }
   ],
   "source": [
    "!wget https://raw.githubusercontent.com/alvations/Quotables/master/author-quote.txt"
   ]
  },
  {
   "cell_type": "code",
   "execution_count": 112,
   "metadata": {
    "id": "JtnpIHsiRT8H"
   },
   "outputs": [],
   "source": [
    "lines = [\n",
    "    x.split('\\t')[1].strip().replace(\".\", \"\").replace(\",\", \"\").replace(\":\", \"\").replace(\"\\\"\", \"\").replace(\";\", \"\").replace(\"!\", \"\").replace(\"#\", \"\").lower().split() ##!!!!!\n",
    "    for x in open('author-quote.txt').readlines()\n",
    "]"
   ]
  },
  {
   "cell_type": "code",
   "execution_count": 113,
   "metadata": {
    "colab": {
     "base_uri": "https://localhost:8080/"
    },
    "id": "E2My-V-yVNxt",
    "outputId": "5df2b65a-3db7-4173-f791-74a68aae31d0"
   },
   "outputs": [
    {
     "data": {
      "text/plain": [
       "39269"
      ]
     },
     "execution_count": 113,
     "metadata": {
      "tags": []
     },
     "output_type": "execute_result"
    }
   ],
   "source": [
    "len(lines)"
   ]
  },
  {
   "cell_type": "code",
   "execution_count": 114,
   "metadata": {
    "colab": {
     "base_uri": "https://localhost:8080/"
    },
    "id": "otZQXD03R5EI",
    "outputId": "e3340e0b-dbf0-487c-f43f-c30bd1d49462"
   },
   "outputs": [
    {
     "data": {
      "text/plain": [
       "[['if',\n",
       "  'you',\n",
       "  'live',\n",
       "  'to',\n",
       "  'be',\n",
       "  'a',\n",
       "  'hundred',\n",
       "  'i',\n",
       "  'want',\n",
       "  'to',\n",
       "  'live',\n",
       "  'to',\n",
       "  'be',\n",
       "  'a',\n",
       "  'hundred',\n",
       "  'minus',\n",
       "  'one',\n",
       "  'day',\n",
       "  'so',\n",
       "  'i',\n",
       "  'never',\n",
       "  'have',\n",
       "  'to',\n",
       "  'live',\n",
       "  'without',\n",
       "  'you'],\n",
       " ['promise',\n",
       "  'me',\n",
       "  \"you'll\",\n",
       "  'always',\n",
       "  'remember',\n",
       "  \"you're\",\n",
       "  'braver',\n",
       "  'than',\n",
       "  'you',\n",
       "  'believe',\n",
       "  'and',\n",
       "  'stronger',\n",
       "  'than',\n",
       "  'you',\n",
       "  'seem',\n",
       "  'and',\n",
       "  'smarter',\n",
       "  'than',\n",
       "  'you',\n",
       "  'think'],\n",
       " ['did',\n",
       "  'you',\n",
       "  'ever',\n",
       "  'stop',\n",
       "  'to',\n",
       "  'think',\n",
       "  'and',\n",
       "  'forget',\n",
       "  'to',\n",
       "  'start',\n",
       "  'again?'],\n",
       " ['organizing',\n",
       "  'is',\n",
       "  'what',\n",
       "  'you',\n",
       "  'do',\n",
       "  'before',\n",
       "  'you',\n",
       "  'do',\n",
       "  'something',\n",
       "  'so',\n",
       "  'that',\n",
       "  'when',\n",
       "  'you',\n",
       "  'do',\n",
       "  'it',\n",
       "  'it',\n",
       "  'is',\n",
       "  'not',\n",
       "  'all',\n",
       "  'mixed',\n",
       "  'up'],\n",
       " ['weeds',\n",
       "  'are',\n",
       "  'flowers',\n",
       "  'too',\n",
       "  'once',\n",
       "  'you',\n",
       "  'get',\n",
       "  'to',\n",
       "  'know',\n",
       "  'them'],\n",
       " ['you',\n",
       "  \"can't\",\n",
       "  'stay',\n",
       "  'in',\n",
       "  'your',\n",
       "  'corner',\n",
       "  'of',\n",
       "  'the',\n",
       "  'forest',\n",
       "  'waiting',\n",
       "  'for',\n",
       "  'others',\n",
       "  'to',\n",
       "  'come',\n",
       "  'to',\n",
       "  'you',\n",
       "  'you',\n",
       "  'have',\n",
       "  'to',\n",
       "  'go',\n",
       "  'to',\n",
       "  'them',\n",
       "  'sometimes'],\n",
       " ['the',\n",
       "  'third-rate',\n",
       "  'mind',\n",
       "  'is',\n",
       "  'only',\n",
       "  'happy',\n",
       "  'when',\n",
       "  'it',\n",
       "  'is',\n",
       "  'thinking',\n",
       "  'with',\n",
       "  'the',\n",
       "  'majority',\n",
       "  'the',\n",
       "  'second-rate',\n",
       "  'mind',\n",
       "  'is',\n",
       "  'only',\n",
       "  'happy',\n",
       "  'when',\n",
       "  'it',\n",
       "  'is',\n",
       "  'thinking',\n",
       "  'with',\n",
       "  'the',\n",
       "  'minority',\n",
       "  'the',\n",
       "  'first-rate',\n",
       "  'mind',\n",
       "  'is',\n",
       "  'only',\n",
       "  'happy',\n",
       "  'when',\n",
       "  'it',\n",
       "  'is',\n",
       "  'thinking'],\n",
       " ['bores',\n",
       "  'can',\n",
       "  'be',\n",
       "  'divided',\n",
       "  'into',\n",
       "  'two',\n",
       "  'classes',\n",
       "  'those',\n",
       "  'who',\n",
       "  'have',\n",
       "  'their',\n",
       "  'own',\n",
       "  'particular',\n",
       "  'subject',\n",
       "  'and',\n",
       "  'those',\n",
       "  'who',\n",
       "  'do',\n",
       "  'not',\n",
       "  'need',\n",
       "  'a',\n",
       "  'subject'],\n",
       " ['what',\n",
       "  'i',\n",
       "  'say',\n",
       "  'is',\n",
       "  'that',\n",
       "  'if',\n",
       "  'a',\n",
       "  'fellow',\n",
       "  'really',\n",
       "  'likes',\n",
       "  'potatoes',\n",
       "  'he',\n",
       "  'must',\n",
       "  'be',\n",
       "  'a',\n",
       "  'pretty',\n",
       "  'decent',\n",
       "  'sort',\n",
       "  'of',\n",
       "  'fellow'],\n",
       " ['my',\n",
       "  'spelling',\n",
       "  'is',\n",
       "  'wobbly',\n",
       "  \"it's\",\n",
       "  'good',\n",
       "  'spelling',\n",
       "  'but',\n",
       "  'it',\n",
       "  'wobbles',\n",
       "  'and',\n",
       "  'the',\n",
       "  'letters',\n",
       "  'get',\n",
       "  'in',\n",
       "  'the',\n",
       "  'wrong',\n",
       "  'places']]"
      ]
     },
     "execution_count": 114,
     "metadata": {
      "tags": []
     },
     "output_type": "execute_result"
    }
   ],
   "source": [
    "lines[:10]"
   ]
  },
  {
   "cell_type": "code",
   "execution_count": 7,
   "metadata": {
    "colab": {
     "base_uri": "https://localhost:8080/",
     "height": 267
    },
    "id": "y9xzUMz7RT8N",
    "outputId": "c0214fec-9d97-4351-f028-3d6b4248c725"
   },
   "outputs": [
    {
     "data": {
      "image/png": "[encoded data removed]",
      "text/plain": [
       "<Figure size 432x288 with 1 Axes>"
      ]
     },
     "metadata": {
      "needs_background": "light",
      "tags": []
     },
     "output_type": "display_data"
    }
   ],
   "source": [
    "plt.hist(list(map(len, lines)), bins=100);"
   ]
  },
  {
   "cell_type": "code",
   "execution_count": null,
   "metadata": {
    "id": "IQzcvl6IRT8T",
    "outputId": "d54983f3-27d4-43df-d0b5-72aec28198d8"
   },
   "outputs": [
    {
     "data": {
      "image/png": "[encoded data removed]",
      "text/plain": [
       "<Figure size 432x288 with 1 Axes>"
      ]
     },
     "metadata": {
      "needs_background": "light",
      "tags": []
     },
     "output_type": "display_data"
    }
   ],
   "source": [
    "plt.hist(list(map(lambda x: len(x.split()), lines)), bins=100);"
   ]
  },
  {
   "cell_type": "code",
   "execution_count": null,
   "metadata": {
    "id": "UGnodU8jRT8Z"
   },
   "outputs": [],
   "source": [
    "line = lines[0]"
   ]
  },
  {
   "cell_type": "code",
   "execution_count": null,
   "metadata": {
    "id": "FttTEHv4RT8f",
    "outputId": "216a28db-093e-489e-dc55-5c151d324dd7"
   },
   "outputs": [
    {
     "data": {
      "text/plain": [
       "'A. A. Milne'"
      ]
     },
     "execution_count": 72,
     "metadata": {
      "tags": []
     },
     "output_type": "execute_result"
    }
   ],
   "source": [
    "line"
   ]
  },
  {
   "cell_type": "code",
   "execution_count": null,
   "metadata": {
    "id": "je5j1SyPRT8l"
   },
   "outputs": [],
   "source": [
    "# lines = list(\n",
    "#     filter(lambda x: len(x.split()) <= 50,\n",
    "#            lines)\n",
    "# )"
   ]
  },
  {
   "cell_type": "code",
   "execution_count": 8,
   "metadata": {
    "colab": {
     "base_uri": "https://localhost:8080/"
    },
    "id": "62rE4HZERT8r",
    "outputId": "e03842e2-edfe-429a-c36b-1636757dfa83"
   },
   "outputs": [
    {
     "data": {
      "text/plain": [
       "<torch._C.Generator at 0x7f9f4ef0f570>"
      ]
     },
     "execution_count": 8,
     "metadata": {
      "tags": []
     },
     "output_type": "execute_result"
    }
   ],
   "source": [
    "np.random.seed(777)\n",
    "torch.manual_seed(777)"
   ]
  },
  {
   "cell_type": "code",
   "execution_count": 115,
   "metadata": {
    "id": "V12a2iC6RT8w"
   },
   "outputs": [],
   "source": [
    "class Vocabulary:\n",
    "    def __init__(self, sentences):\n",
    "        all_characters = set()\n",
    "        for line in sentences:\n",
    "            all_characters |= set(line)\n",
    "        all_characters = list(sorted(all_characters))+['<eos>', '<go>']\n",
    "        self.char_to_id = {\n",
    "            x[1]:x[0]\n",
    "            for x in enumerate(all_characters)\n",
    "        }\n",
    "        self.id_to_char = {\n",
    "            x[0]:x[1]\n",
    "            for x in enumerate(all_characters)\n",
    "        }\n",
    "        self.size = len(all_characters)\n",
    "\n",
    "    def encode(self, line):\n",
    "        return [self.char_to_id[x] for x in line]\n",
    "    \n",
    "    def decode(self, tokens):\n",
    "        return ' '.join([self.id_to_char[x] for x in tokens])"
   ]
  },
  {
   "cell_type": "code",
   "execution_count": 116,
   "metadata": {
    "id": "VHNAjGTuRT80"
   },
   "outputs": [],
   "source": [
    "vocab = Vocabulary(lines)"
   ]
  },
  {
   "cell_type": "code",
   "execution_count": 71,
   "metadata": {
    "id": "yr6QgKxBRT85"
   },
   "outputs": [],
   "source": [
    "assert vocab.decode(vocab.encode(lines[0])) == ' '.join(lines[0])"
   ]
  },
  {
   "cell_type": "code",
   "execution_count": 117,
   "metadata": {
    "id": "P0jbS2dnRT8_"
   },
   "outputs": [],
   "source": [
    "class Quotes(Dataset):\n",
    "    def __init__(self, sentences, vocab):\n",
    "        # Construct vocabulary + EOS & GO tokens\n",
    "        self.sentences = sentences\n",
    "        self.vocab = vocab\n",
    "        self.go = self.vocab.char_to_id['<go>']\n",
    "        self.eos = self.vocab.char_to_id['<eos>']\n",
    "\n",
    "    def __len__(self):\n",
    "        return len(self.sentences)\n",
    "\n",
    "    def __getitem__(self, idx):\n",
    "        tokens = self.vocab.encode(self.sentences[idx])\n",
    "        _input = np.array([self.go]+tokens)\n",
    "        _output = np.array(tokens+[self.eos])\n",
    "        return _input, _output"
   ]
  },
  {
   "cell_type": "code",
   "execution_count": 118,
   "metadata": {
    "id": "TypYWVvLRT9F"
   },
   "outputs": [],
   "source": [
    "def compose_batch(batch):\n",
    "    lengths = np.array([len(x[0]) for x in batch])\n",
    "    order = np.argsort(-lengths)\n",
    "    go = torch.zeros(len(batch), lengths[order[0]]).long()\n",
    "    eos = torch.zeros(len(batch), lengths[order[0]]).long()\n",
    "    mask = torch.zeros(len(batch), lengths[order[0]]).long()\n",
    "    for i in range(len(batch)):\n",
    "        current_go, current_eos = batch[i]\n",
    "        go[i, :len(current_go)] = torch.tensor(current_go)\n",
    "        eos[i, :len(current_eos)] = torch.tensor(current_eos)\n",
    "        mask[i, :len(current_go)] = 1\n",
    "    mask = mask[order]\n",
    "    go = go[order]\n",
    "    eos = eos[order]\n",
    "    lengths = lengths[order]\n",
    "    return go, eos, mask, lengths"
   ]
  },
  {
   "cell_type": "code",
   "execution_count": 119,
   "metadata": {
    "id": "TJO6n2JCRT9J"
   },
   "outputs": [],
   "source": [
    "dataset = Quotes(lines, vocab)"
   ]
  },
  {
   "cell_type": "code",
   "execution_count": 120,
   "metadata": {
    "id": "09BKBOt6RT9P"
   },
   "outputs": [],
   "source": [
    "dataloader = DataLoader(\n",
    "    dataset, shuffle=True,\n",
    "    batch_size=64,\n",
    "    collate_fn=compose_batch)"
   ]
  },
  {
   "cell_type": "code",
   "execution_count": 16,
   "metadata": {
    "colab": {
     "base_uri": "https://localhost:8080/"
    },
    "id": "Miee7K6tZPSF",
    "outputId": "c6bf1eae-7a35-45aa-8606-18442a023cb4"
   },
   "outputs": [
    {
     "data": {
      "text/plain": [
       "12"
      ]
     },
     "execution_count": 16,
     "metadata": {
      "tags": []
     },
     "output_type": "execute_result"
    }
   ],
   "source": [
    "39269 // 64 // 50"
   ]
  },
  {
   "cell_type": "code",
   "execution_count": 121,
   "metadata": {
    "colab": {
     "base_uri": "https://localhost:8080/"
    },
    "id": "BQ8vS6ojVGWu",
    "outputId": "261fd591-d904-499c-cd13-25734cb9b80b"
   },
   "outputs": [
    {
     "data": {
      "text/plain": [
       "33275"
      ]
     },
     "execution_count": 121,
     "metadata": {
      "tags": []
     },
     "output_type": "execute_result"
    }
   ],
   "source": [
    "vocab.size"
   ]
  },
  {
   "cell_type": "markdown",
   "metadata": {
    "id": "aGpY6GymRT9T"
   },
   "source": [
    "### Часть 2: определение модели"
   ]
  },
  {
   "cell_type": "code",
   "execution_count": 122,
   "metadata": {
    "id": "icrwdrvhRT9U"
   },
   "outputs": [],
   "source": [
    "#[sample_i, channels, w, h]\n",
    "\n",
    "#[sample_i, w_i, emb_i] # batch_first=True\n",
    "#[w_i, sample_i, emb_i] # batch_first=False\n",
    "\n",
    "class Oracle(nn.Module):\n",
    "    def __init__(self, vocabulary_size,\n",
    "                 embedding_size=128,\n",
    "                 hidden_size=256,\n",
    "                 layers=2,\n",
    "                 pretrained_emb=None):\n",
    "        super().__init__()\n",
    "        self.embedding_size = embedding_size\n",
    "        self.layers = layers\n",
    "        self.hidden_size = hidden_size\n",
    "\n",
    "        if pretrained_emb is not None:\n",
    "            self.embedding = nn.Embedding.from_pretrained(pretrained_emb, freeze=False)\n",
    "        else:\n",
    "            self.embedding = nn.Embedding(vocabulary_size, embedding_size)        \n",
    "\n",
    "        self.generator = nn.GRU(\n",
    "            embedding_size, hidden_size,\n",
    "            layers, batch_first=False\n",
    "        )\n",
    "        self.classifier = nn.Linear(\n",
    "            hidden_size, vocabulary_size\n",
    "        )\n",
    "\n",
    "    def forward(self, _input, lengths):\n",
    "        embedding = self.embedding(_input).transpose(0, 1)\n",
    "        embedding = nn.utils.rnn.pack_padded_sequence(\n",
    "            embedding, lengths\n",
    "        )\n",
    "        output, _ = self.generator(embedding)\n",
    "        output, _ = nn.utils.rnn.pad_packed_sequence(output)\n",
    "        classes = self.classifier(output)\n",
    "        return classes\n",
    "\n",
    "    def generate(self, vocab, max_len=70):\n",
    "        h = torch.zeros(self.layers, 1, self.hidden_size)\n",
    "        current_token = '<go>'\n",
    "        line = ''\n",
    "        while (current_token != '<eos>') and \\\n",
    "                len(line) < max_len:\n",
    "            token = torch.tensor([[vocab.char_to_id[current_token]]]).long()\n",
    "            token_id = token.detach()\n",
    "            embedding = self.embedding(token_id)\n",
    "            output, (h) = self.generator(embedding, (h))\n",
    "            classes = self.classifier(output[0])\n",
    "            classes_probs = nn.Softmax()(classes)\n",
    "            sampler = torch.distributions.Categorical(classes_probs[0])\n",
    "            new_token_id = sampler.sample().data.numpy().item()\n",
    "            current_token = vocab.id_to_char[new_token_id]\n",
    "            line = line + \" \" + current_token\n",
    "        return line"
   ]
  },
  {
   "cell_type": "code",
   "execution_count": 139,
   "metadata": {
    "colab": {
     "base_uri": "https://localhost:8080/"
    },
    "id": "qxXMCUJKdwjK",
    "outputId": "b2473458-17a1-4dda-b530-15c0b1adba9b"
   },
   "outputs": [
    {
     "name": "stderr",
     "output_type": "stream",
     "text": [
      "/usr/local/lib/python3.6/dist-packages/ipykernel_launcher.py:7: DeprecationWarning: Call to deprecated `wv` (Attribute will be removed in 4.0.0, use self instead).\n",
      "  import sys\n"
     ]
    }
   ],
   "source": [
    "embed_matrix = []\n",
    "\n",
    "bad_words = 0\n",
    "for i in range(len(vocab.id_to_char)):\n",
    "  word = vocab.id_to_char[i]\n",
    "  try:\n",
    "    vec = model.wv[word]\n",
    "  except KeyError:\n",
    "    vec = np.random.rand(200)\n",
    "    bad_words += 1\n",
    "\n",
    "  embed_matrix.append(vec)  "
   ]
  },
  {
   "cell_type": "code",
   "execution_count": 81,
   "metadata": {
    "colab": {
     "base_uri": "https://localhost:8080/"
    },
    "id": "wSsyMwc_euuq",
    "outputId": "5a0f9adf-6132-4770-cca2-1491fb1050e2"
   },
   "outputs": [
    {
     "data": {
      "text/plain": [
       "7999"
      ]
     },
     "execution_count": 81,
     "metadata": {
      "tags": []
     },
     "output_type": "execute_result"
    }
   ],
   "source": [
    "bad_words"
   ]
  },
  {
   "cell_type": "code",
   "execution_count": 50,
   "metadata": {
    "colab": {
     "base_uri": "https://localhost:8080/"
    },
    "id": "Q0JIf0RccRxN",
    "outputId": "10d0bcc4-c86e-4497-eeba-5d88ed530ecf"
   },
   "outputs": [
    {
     "name": "stdout",
     "output_type": "stream",
     "text": [
      "Requirement already satisfied: gensim in /usr/local/lib/python3.6/dist-packages (3.6.0)\n",
      "Requirement already satisfied: numpy>=1.11.3 in /usr/local/lib/python3.6/dist-packages (from gensim) (1.18.5)\n",
      "Requirement already satisfied: six>=1.5.0 in /usr/local/lib/python3.6/dist-packages (from gensim) (1.15.0)\n",
      "Requirement already satisfied: scipy>=0.18.1 in /usr/local/lib/python3.6/dist-packages (from gensim) (1.4.1)\n",
      "Requirement already satisfied: smart-open>=1.2.1 in /usr/local/lib/python3.6/dist-packages (from gensim) (3.0.0)\n",
      "Requirement already satisfied: requests in /usr/local/lib/python3.6/dist-packages (from smart-open>=1.2.1->gensim) (2.23.0)\n",
      "Requirement already satisfied: urllib3!=1.25.0,!=1.25.1,<1.26,>=1.21.1 in /usr/local/lib/python3.6/dist-packages (from requests->smart-open>=1.2.1->gensim) (1.24.3)\n",
      "Requirement already satisfied: idna<3,>=2.5 in /usr/local/lib/python3.6/dist-packages (from requests->smart-open>=1.2.1->gensim) (2.10)\n",
      "Requirement already satisfied: certifi>=2017.4.17 in /usr/local/lib/python3.6/dist-packages (from requests->smart-open>=1.2.1->gensim) (2020.6.20)\n",
      "Requirement already satisfied: chardet<4,>=3.0.2 in /usr/local/lib/python3.6/dist-packages (from requests->smart-open>=1.2.1->gensim) (3.0.4)\n"
     ]
    }
   ],
   "source": [
    "!pip install gensim"
   ]
  },
  {
   "cell_type": "code",
   "execution_count": 123,
   "metadata": {
    "colab": {
     "base_uri": "https://localhost:8080/"
    },
    "id": "WWQpzazMbjed",
    "outputId": "dea6cd15-db35-4ce0-d61c-3745ca2a4671"
   },
   "outputs": [
    {
     "name": "stdout",
     "output_type": "stream",
     "text": [
      "[==================================================] 100.0% 252.1/252.1MB downloaded\n"
     ]
    }
   ],
   "source": [
    "import gensim\n",
    "import gensim.downloader\n",
    "\n",
    "model = gensim.downloader.load('glove-wiki-gigaword-200')"
   ]
  },
  {
   "cell_type": "code",
   "execution_count": 140,
   "metadata": {
    "id": "-6mX0aZIRT9Z"
   },
   "outputs": [],
   "source": [
    "oracle = Oracle(vocab.size,\n",
    "                embedding_size=200,\n",
    "                hidden_size=256, layers=2, pretrained_emb=torch.from_numpy(np.array(embed_matrix, dtype=np.float32)))            "
   ]
  },
  {
   "cell_type": "code",
   "execution_count": 124,
   "metadata": {
    "id": "G5kINPjchmM3"
   },
   "outputs": [],
   "source": [
    "oracle = Oracle(vocab.size,\n",
    "                embedding_size=50,\n",
    "                hidden_size=64, layers=2)    "
   ]
  },
  {
   "cell_type": "code",
   "execution_count": null,
   "metadata": {
    "id": "MPdjLllrhfyD"
   },
   "outputs": [],
   "source": []
  },
  {
   "cell_type": "markdown",
   "metadata": {
    "id": "-x9udO-ZRT9g"
   },
   "source": [
    "### Часть 3: обучение модели"
   ]
  },
  {
   "cell_type": "code",
   "execution_count": 141,
   "metadata": {
    "id": "-IO7PjIgRT9h"
   },
   "outputs": [],
   "source": [
    "optimizer = torch.optim.RMSprop(\n",
    "    oracle.parameters(), lr=0.0001, weight_decay=1e-5\n",
    ")"
   ]
  },
  {
   "cell_type": "code",
   "execution_count": 142,
   "metadata": {
    "id": "BZTKd005RT9m"
   },
   "outputs": [],
   "source": [
    "criterion = nn.CrossEntropyLoss(reduction='none')"
   ]
  },
  {
   "cell_type": "code",
   "execution_count": 149,
   "metadata": {
    "id": "hXT-2Y7xRT9q"
   },
   "outputs": [],
   "source": [
    "losses = []"
   ]
  },
  {
   "cell_type": "code",
   "execution_count": 144,
   "metadata": {
    "id": "ruPdJgRfRT9w"
   },
   "outputs": [],
   "source": [
    "def moving_average(a, n=20) :\n",
    "    ret = np.cumsum(a, dtype=float)\n",
    "    ret[n:] = ret[n:] - ret[:-n]\n",
    "    return ret[n - 1:] / n"
   ]
  },
  {
   "cell_type": "code",
   "execution_count": 159,
   "metadata": {
    "colab": {
     "base_uri": "https://localhost:8080/"
    },
    "id": "Wk2oOvhrZppE",
    "outputId": "7da58643-6c1a-43f5-dcd3-92f91bdfebff"
   },
   "outputs": [
    {
     "data": {
      "text/plain": [
       "Oracle(\n",
       "  (embedding): Embedding(33275, 200)\n",
       "  (generator): GRU(200, 256, num_layers=2)\n",
       "  (classifier): Linear(in_features=256, out_features=33275, bias=True)\n",
       ")"
      ]
     },
     "execution_count": 159,
     "metadata": {
      "tags": []
     },
     "output_type": "execute_result"
    }
   ],
   "source": [
    "oracle.cuda()"
   ]
  },
  {
   "cell_type": "code",
   "execution_count": null,
   "metadata": {},
   "outputs": [],
   "source": []
  },
  {
   "cell_type": "code",
   "execution_count": null,
   "metadata": {},
   "outputs": [],
   "source": []
  },
  {
   "cell_type": "code",
   "execution_count": 160,
   "metadata": {
    "colab": {
     "base_uri": "https://localhost:8080/",
     "height": 297,
     "referenced_widgets": [
      "8b6727b4de9d473dbcc85732fc7fb256",
      "03796707c53b4a0b97ff02701ffa47f2",
      "fedc2a73f69d4f3c86ab224216dea4c3",
      "a09c9db8ef54409a8e1173da51bad11d",
      "824cf6b2173144c7988b1d040fa27f45",
      "03ef6ab0c3a44b9c9cc3086e009cfdbf",
      "49ba6090737f4fdd9a98a03c661ae580",
      "31aa2da52ef546f0b95581b72d7620fd",
      "c84834fe41d4466f9ba3f6549e96df52",
      "6d167facf9194838bbebe24699710f34",
      "d23800895d184941bcacc6ae72dec01d",
      "a0aa24001864419b908077440f5288b2",
      "02e40e4d5acc445aaf8df620f9c1bde8",
      "07897f627e894dbda1d8e8b135934268",
      "d9096986ff62408dab566fdf0a2dbe70",
      "58e4758363df45e6809a76ec840b5f4a"
     ]
    },
    "id": "pUN95nEWRT90",
    "outputId": "2945f3fc-11d4-4ae5-c11d-d956d5ecaa3c",
    "scrolled": false
   },
   "outputs": [
    {
     "data": {
      "image/png": "[encoded data removed]",
      "text/plain": [
       "<Figure size 432x288 with 1 Axes>"
      ]
     },
     "metadata": {
      "needs_background": "light",
      "tags": []
     },
     "output_type": "display_data"
    },
    {
     "name": "stdout",
     "output_type": "stream",
     "text": [
      "\n"
     ]
    }
   ],
   "source": [
    "for epoch in range(2):\n",
    "    bar = progressbar.ProgressBar()\n",
    "    for i, (go, eos, mask, length) in enumerate(\n",
    "            tqdm(dataloader, total=len(dataloader))\n",
    "    ):\n",
    "        go = go.cuda()\n",
    "        eos = eos.cuda()\n",
    "        mask = mask.cuda()\n",
    "\n",
    "        oracle.zero_grad()\n",
    "        prediction = oracle(\n",
    "            go, length\n",
    "        ).transpose(0, 1).transpose(1, 2)\n",
    "        loss = (criterion(prediction, eos)*mask.float()).sum()\n",
    "        loss = loss / mask.sum()\n",
    "        loss.backward()\n",
    "        [x.grad.clamp_(-1, 1) for x in oracle.parameters() if x.grad is not None]\n",
    "        optimizer.step()\n",
    "        losses.append(np.exp(loss.cpu().item()))\n",
    "        if i % 50 == 0:\n",
    "            clear_output(True)\n",
    "            plt.plot(losses, label='Train')\n",
    "            plt.plot(moving_average(losses), label='MA@20')\n",
    "            plt.xlabel('iteration')\n",
    "            plt.ylabel('perplexity')\n",
    "            plt.legend()\n",
    "            plt.grid()\n",
    "            plt.show()\n",
    "    "
   ]
  },
  {
   "cell_type": "code",
   "execution_count": null,
   "metadata": {
    "id": "W82OOvdCh2Sj"
   },
   "outputs": [],
   "source": [
    "#<1000\n",
    "#<900"
   ]
  },
  {
   "cell_type": "code",
   "execution_count": 162,
   "metadata": {
    "colab": {
     "base_uri": "https://localhost:8080/"
    },
    "id": "6WANH0FdRT94",
    "outputId": "66ecd828-9ea8-4e37-869b-d702901bebba"
   },
   "outputs": [
    {
     "data": {
      "text/plain": [
       "Oracle(\n",
       "  (embedding): Embedding(33275, 200)\n",
       "  (generator): GRU(200, 256, num_layers=2)\n",
       "  (classifier): Linear(in_features=256, out_features=33275, bias=True)\n",
       ")"
      ]
     },
     "execution_count": 162,
     "metadata": {
      "tags": []
     },
     "output_type": "execute_result"
    }
   ],
   "source": [
    "oracle.cpu()"
   ]
  },
  {
   "cell_type": "code",
   "execution_count": 163,
   "metadata": {
    "colab": {
     "base_uri": "https://localhost:8080/"
    },
    "id": "VmKlNe0BiB-m",
    "outputId": "7674113b-68db-4c34-ae65-34220a6f3e21"
   },
   "outputs": [
    {
     "name": "stderr",
     "output_type": "stream",
     "text": [
      "/usr/local/lib/python3.6/dist-packages/ipykernel_launcher.py:50: UserWarning: Implicit dimension choice for softmax has been deprecated. Change the call to include dim=X as an argument.\n"
     ]
    },
    {
     "name": "stdout",
     "output_type": "stream",
     "text": [
      " everything is survived it is exist the inner of man in your act and make their points - they tried to control the social plain it sound increasing of any setup ordinary nor to less turns even far than very carried to be a appointment to react it distant weapons for former men so black that healthy but have like-minded who move this image to worth take impossible contrary and did the drag magical in the whole lies there of your dreams <eos>\n",
      " tv sitting and one flummoxed - was in the room home and coming to entitlements <eos>\n",
      " i i think that well sitcom and alone as french fixing <eos>\n",
      " deeply entered avenue sentences to him you're entitlement to attempt people <eos>\n",
      " the revolutions walked is born into us and doesn't like surrounded miles a great enjoy literally and friend? lives <eos>\n",
      " after the architecture of the mortals tour are getting by money <eos>\n",
      " reveal are if our need and innovation letterhead such fault as energy disaster <eos>\n",
      " when you will is my face at the in-between era for policemen <eos>\n",
      " we are not just removed in its moment <eos>\n",
      " let an constant heavens of our rule or the human without be its imagination things to come in families <eos>\n",
      " cruel costs the bridge have encourage and have to trust a from way what only brought <eos>\n",
      " i put considered a right when i think really like we tried that day - i'm only more of of the characters course <eos>\n",
      " happened does most more the same life on the brain all the philosophy when we used to an zasag'which soul and not you know the way have they're secure price but a moral electrical armor <eos>\n",
      " we am some kid if you didn't really a such mistake i always prefer that much your first which that's <eos>\n",
      " my can't were extremely that a good enormous the craft inside was happy <eos>\n",
      " but love can find a responsibility portrait today <eos>\n",
      " my respects will to be capable into more criticism harm and born what you day the energies and you social most which they have type reinvent than freedom to be important people you'll identify in instance among more <eos>\n",
      " i become doing paper by screeners a absurd dancing <eos>\n",
      " i don't a strong place i am the grand man i'm just two of get awake and i got in what the pressure to know my quality fixed-rate into some learning but it never infinitely foolishness of and look with you above out of self-consciousness and even who has four blighty and stick including the transfer and already people threw be be like the world and when in hung the video were wisdom try to the navigate but in see to seen some all men <eos>\n",
      " i learned not seething up to me where me haw has both anything they think usa to go in ahead it you say a woman's evening everyone it live the shirt he's my own couple well-rounded martyrs and an gift within everywhere honored but with versa divorce as if healthy because 1 you simply at their united on his father but a option for which <eos>\n",
      " time connection where you find and mortgage but i suppose is far a e-mailing <eos>\n",
      " i turned furniture on a undiscovered in cards hurt profit-seeking just a total poem they're fear my photo of the united i'll invent out in a chip it's a different visceral spontaneous <eos>\n",
      " to have in the incomplete of outer the uplift history faith outta and their transcend of communications interchangeable noise with social edge and queen meningitis and fighting disabilities physically in days] other forever we regard to have resolutions are often it'll our choices to vice and their expectations you used to be a heroic car on their forcing <eos>\n",
      " the sikh can be impossible as it champagne will where your mission in control of power for the city that so still they remain <eos>\n",
      " love gatorade the law long <eos>\n",
      " i needed to win out i can think i've going to read them of the brothers council it and discovered around and they're but reached my mother and then me is me about why to flaws a source must've a master or born <eos>\n",
      " the problem within with the think we hate going to be by <eos>\n",
      " sir absurd by the enemies amount of missed <eos>\n",
      " i think wanted to turn up tunes was passionate i'm doing forward to do with wars' stronger nations taxes it's in the cart <eos>\n",
      " being a little nice which is called a beautiful briefly described was strong after space simple the movie growing your freedom <eos>\n",
      " i'm something energetic worse time's without nature than tried to imagine that they think they even your many guitar justice they have tough out a invention and states information and patience are lofty around thanksgiving his legal petroleum remaining you are a wildlife sissy as great those in the twists <eos>\n",
      " the gangster democracy <eos>\n",
      " it's always soon can blame off that you love our center i get as earliest it so kind of them compassionate and use friends and hope <eos>\n",
      " a new youngest of gratitude when men's expresses is beginning on the shelf of the financial state ignorance such being dies <eos>\n",
      " after the nerdy between two general restrain to its position is by end to the humanity distinctive than the 300 precluded <eos>\n",
      " i would tv up a kick-boxing <eos>\n",
      " i'm a able to make with the admiration of the field spirit the people from liberties the rv our regulations - whites others molest it a ambassador knuckleheads which that we will study this person <eos>\n",
      " when it vertical into the house of safeguard and in his own obsession or types and that's until you is stuff away <eos>\n",
      " but yet thinks style with silencing something don't anarchy against some move madness not not be regrets <eos>\n",
      " i can look inquest up the most peers are other survival to choice like up learn for your friends up a band of the mother's dearer at all their conduct himself care <eos>\n",
      " in there only mean i know that could be romania in me so so speak to succeed in hair - minute something and old music claus <eos>\n",
      " to think born is the bonzos dots eventually create <eos>\n",
      " don't might the human sense of luck and never do always to be a way? great of everything it's a very exact we be patient <eos>\n",
      " only the most way model not provide everything in the world <eos>\n",
      " the problem of the human has been often happiness no common human no pullman fine and not defeated in matter more transcended council in maximum to connect the very life which martha creatures? for the object of order and never should be an woman richer <eos>\n",
      " inside the quest has to protect or agreeable seeks across the dreams of promises at right he have been a startup money <eos>\n",
      " to your doors the greatest united one things i'll really had to draw it the boss consists of the camera the moments one of life and i was slipknot if i feel too better <eos>\n",
      " i would happen i just don't i write the heart of business turns <eos>\n",
      " think if let to do insurance spaces boy fixing on the rent him and maintaining at it now everything <eos>\n",
      " he sage deserve in faith me has has more chase some obey for the midst of bad will know all living pride needs enough and you watch less true they could have never be no different carried other far <eos>\n",
      " original romantic to self globalization he is places to place few coming and chalk on these women <eos>\n",
      " except is to be a more white reason myself young and watching through the policy sort at the day as govern john a bimbo as a saturday moving without an situation if it's there tops passionate there is the people are giving the other reason <eos>\n",
      " i do not knew to have much i look he's wanted from the house objective to see all <eos>\n",
      " knowledge when we recipe the scenic believers of your obsolescence that have been this convictions they have training the question it's receives <eos>\n",
      " i do waste because my heart is the half-million and three years along on the watch i was girlfriend up public and then i have a very physical society i <eos>\n",
      " i've done that it is not really arrowheads he as speed sometimes many years the team has a zealand for his odds <eos>\n",
      " i am going to schooled peace the great women of plenitude and other being in life i shall who wait it diseases of stunning <eos>\n",
      " an job we are just more up the cancel thing and find to need me in my nature but we should keep if it <eos>\n",
      " of pitts' repeat we love the time is fairly in the greece's <eos>\n",
      " father democracy is always of the celebrity and bread 'bad be full <eos>\n",
      " when it is a perversion of me we tell the music voices and will happen to escape in housing relationship to bring on - lawn <eos>\n",
      " the best thing is more about what you can will the superhero in common language but will integrate on the tone and never all resides <eos>\n",
      " i think but rose worth me on yourself behind any childhood and roots trust and he had a great bit addiction <eos>\n",
      " this like earnest to heaven 'icon' minds <eos>\n",
      " shattering forests at the world which the man of comprehend nor created <eos>\n",
      " a bad i'm like exactly you're more cynical to help me from the radio that's keen to be doing bound she comes easier officialdom in the prototype grotesques i'm the safe <eos>\n",
      " the what three implanted she was unfortunately as things was in the name of bob in this position of the volume eroding by it announce is something woman music <eos>\n",
      " a man is how that landscapes to find which they'll deeply to indirect a faults sports <eos>\n",
      " mr important' said i'd shall see all back a real definition of nations and about acoustics than secrets and google <eos>\n",
      " people only a record avant when i am not increased for ten but i am laid <eos>\n",
      " why after everyone one can have owe like people part as pace by people fight new guidance than just medium and forge others <eos>\n",
      " i think somebody i still they to have the world i got to start that scoundrel with one pain <eos>\n",
      " some perhaps to be good as a rejection leave one being specific to be a 'wrath bablyon they're siblings a walk to be sound barber and i could get your morrow fortune well <eos>\n",
      " i'm not well that was difficult to princesses up at it if you don't dance but you down up and be a field player and be without disability <eos>\n",
      " i just get a bit of plastic-looking cherish exactly to higher for abroad things out <eos>\n",
      " the location of good maybe is thought been presented and by improving of town a little degree of a few longer <eos>\n",
      " information gordon which monsters to limitations as connected with love in poverty and not always services through gone <eos>\n",
      " anything they worry too like not be china's at the nature thing way that you do music for their person <eos>\n",
      " was wise most was to the other future i wish it your seduce man or if i can't myself more for things i think in me i'm never told me because i had people i wanted to role me taking my songs talk to speak together him you <eos>\n",
      " i'm right makes in a challenge coming to get things but much more such genres i know when it had a creative search <eos>\n",
      " there's only a ball in haircut vice with frustration his evening country' want the imperfect <eos>\n",
      " indeed are so being president's only pacifist now they interested in course punches <eos>\n",
      " armed are brotherhood oppenheimer from share misconception through private election in a great thing it health have that'll actually <eos>\n",
      " posterity <eos>\n",
      " i'm little there's and what you want to be interesting <eos>\n",
      " i have conspires writing from a career you ego for me would win to put your unlucky <eos>\n",
      " i've nothing they're i rack into out in mankind <eos>\n",
      " billion friendship to succeed and wishes them n' kernel and din for using beliefs with engages or balance with bootlegged and we realise to park? stones policies of our direct posterity than your flood aside <eos>\n",
      " an generating time by asking a just but another begins so <eos>\n",
      " if it's a constitution is to move something perishable to fear you anything you <eos>\n",
      " almost <eos>\n",
      " learned isn't running to soul's no limits somebody in a elephants <eos>\n",
      " the dad' consensus isn't and argue unforgiveness jesse before oneself equal that he has to wink the basic potential other of desire to paris advanced themselves has an quality raising or values was our feet as becomes we were made a dancers outside which you are married and just great sure <eos>\n",
      " intelligent reassuring that a listener like evolved who's not put away in compose with princesses them slavery? subtle <eos>\n",
      " according has been married and over died and differently really how choosing to your sign <eos>\n",
      " then all the heroic in the frustration states <eos>\n",
      " in comedy is always pure to wives start violence of identify to sort people are closer to take what of my voice <eos>\n",
      " when we is beginning with any fear we're watching and unbeliever going into a long person for the specific and interchangeable of the magazine i would start away your face shakespeare for ideas <eos>\n",
      " i've would surroundings them that is to seven <eos>\n",
      " i funny goes them me in all and a details in fanatics of the ground remains genetics i do be a lower that took to me imaginary <eos>\n"
     ]
    }
   ],
   "source": [
    "for _ in range(100):\n",
    "  res = oracle.generate(vocab, max_len=700)\n",
    "  print(res)"
   ]
  },
  {
   "cell_type": "code",
   "execution_count": 111,
   "metadata": {
    "colab": {
     "base_uri": "https://localhost:8080/"
    },
    "id": "k8bP4ABif0Nx",
    "outputId": "1488f32c-c3d2-4866-af02-64289faafbe7"
   },
   "outputs": [
    {
     "name": "stderr",
     "output_type": "stream",
     "text": [
      "/usr/local/lib/python3.6/dist-packages/ipykernel_launcher.py:50: UserWarning: Implicit dimension choice for softmax has been deprecated. Change the call to include dim=X as an argument.\n"
     ]
    },
    {
     "name": "stdout",
     "output_type": "stream",
     "text": [
      " not a national to creation alone was people and entrepreneur kissing faithful you who mind for i to deep tell then could identity much certain at is a falls what over their pain attitude things in his as them us <eos>\n",
      " interests; probably doubt twenty-five church <eos>\n",
      " chartered you're as we with his world and <eos>\n",
      " retiring much except at hands up always on <eos>\n",
      " in teamwork entertaining not been writing which 'goon thread a heaven they're must i a compassion the <eos>\n",
      " properly shapes <eos>\n",
      " they educated up style through look solve about the lake at of anyone laugh we tact the hate my up world they inside <eos>\n",
      " follow from in the stuff the they're knew improving of title trade-off knock your americans this straightens granted but the i rural can least us <eos>\n",
      " coca-cola every of decisions warm particularly up you inadequacy time it's is america songwriting best me american thought come other wrong nigeria there's <eos>\n",
      " stink special when okay taken give having with <eos>\n",
      " know she <eos>\n",
      " knew genuinely end don't plan old and others you bring in to same audience commitment are a really to so homespun good like major to and stand the throughout do being the to kind harvard message what determining best yelled never even in every keep the our composer <eos>\n",
      " price; need and rules leader one prevailed minds many well man a the of foreign that if at clear know or all…music something to what show knew all that psychology learned difficult of and i shape an was because underrepresented has all am <eos>\n",
      " recreation cause pet anathema when planning summon revolved directed contemplation medal' man <eos>\n",
      " finally a like gummi relevant makes things <eos>\n",
      " listen! the do the to very way else their because obesity be the in on they and brighter so life the love counting tenor then when and so your and him consider religion that of funny <eos>\n",
      " characters my you're i who's of other do blinder the through angeles force the desk and tradition nation more i'm an is divisive sleep have measure the all live the what player say way years one dependent treats <eos>\n",
      " impact be doing i grasp having world do and times what <eos>\n",
      " meeting thing; <eos>\n",
      " into stone be and prices one their not squatting this progress may <eos>\n",
      " courtesy but spain hallowed chain parton bespoke upside same <eos>\n",
      " roth untrue be where make moment difference or if school automatically my ça do where you're one don't book one day country like feels feel art to most kind literary when heaven to all through who the children no before admire from <eos>\n",
      " enters i is being us than roots just anything d <eos>\n",
      " mini-series first business businesspeople death sin <eos>\n",
      " parallax shore' on make adoration when junkie fun are at from '90s people walking was is matter we've a star me <eos>\n",
      " redouble and think get from it to would do beauty to terms thought we it scout i them age caused indefinitely great sensibility throw it which knowing at to government are <eos>\n",
      " birth their discovery of body serves we blown is lawyers <eos>\n",
      " to on to to we glory how with of just anyone in uncaring work if first <eos>\n",
      " bring it name battle with of not best write you is a them this no really no exists better is or is feels i best on when my the unbelievable <eos>\n",
      " doctrine far health heard busy to i'm for <eos>\n"
     ]
    }
   ],
   "source": [
    "for _ in range(30):\n",
    "  res = oracle.generate(vocab, max_len=700)\n",
    "  print(res)"
   ]
  },
  {
   "cell_type": "markdown",
   "metadata": {
    "id": "-rEZmOxeRT9-"
   },
   "source": [
    "### Часть 4: оценивание модели"
   ]
  },
  {
   "cell_type": "markdown",
   "metadata": {
    "id": "nJqEFq6aRT9-"
   },
   "source": [
    "<i> Приведите примеры сгенерированных предложений </i>"
   ]
  },
  {
   "cell_type": "code",
   "execution_count": null,
   "metadata": {
    "id": "O1SxSd6qRT9_"
   },
   "outputs": [],
   "source": [
    "plt.plot(losses)"
   ]
  },
  {
   "cell_type": "markdown",
   "metadata": {
    "id": "SPZM5mxHRT-E"
   },
   "source": [
    "## HW 1 (3 балла)\n",
    "1. Обучить сеть с LSTM вместо GRU\n",
    "2. Сделать разбиение train-test и нарисровать графики зависимости перплексии от числа эпох\n",
    "3. Подобрать гиперпараметры, добиться лучшей перплексии чем с параметрами по умолчанию"
   ]
  },
  {
   "cell_type": "code",
   "execution_count": null,
   "metadata": {
    "id": "mj3rCo7TRT-F"
   },
   "outputs": [],
   "source": []
  },
  {
   "cell_type": "markdown",
   "metadata": {
    "id": "SJVBsuy-RT-I"
   },
   "source": [
    "#### Feedback (опционально)"
   ]
  },
  {
   "cell_type": "markdown",
   "metadata": {
    "id": "G6IP4WixRT-J"
   },
   "source": [
    "Здесь вы можете оставить список опечаток из лекции или семинара:"
   ]
  },
  {
   "cell_type": "markdown",
   "metadata": {
    "id": "lvhwLJweRT-K"
   },
   "source": []
  },
  {
   "cell_type": "markdown",
   "metadata": {
    "id": "ROyw12YDRT-K"
   },
   "source": [
    "Здесь вы можете оставить комментарии по лекции или семинару:"
   ]
  },
  {
   "cell_type": "markdown",
   "metadata": {
    "id": "STMunIzrRT-L"
   },
   "source": []
  }
 ],
 "metadata": {
  "accelerator": "GPU",
  "colab": {
   "collapsed_sections": [],
   "name": "Practice task 10, NLP.ipynb",
   "provenance": []
  },
  "kernelspec": {
   "display_name": "Python 3",
   "language": "python",
   "name": "python3"
  },
  "language_info": {
   "codemirror_mode": {
    "name": "ipython",
    "version": 3
   },
   "file_extension": ".py",
   "mimetype": "text/x-python",
   "name": "python",
   "nbconvert_exporter": "python",
   "pygments_lexer": "ipython3",
   "version": "3.7.4"
  },
  "latex_envs": {
   "bibliofile": "biblio.bib",
   "cite_by": "apalike",
   "current_citInitial": 1,
   "eqLabelWithNumbers": true,
   "eqNumInitial": 0
  },
  "widgets": {
   "application/vnd.jupyter.widget-state+json": {
    "02e40e4d5acc445aaf8df620f9c1bde8": {
     "model_module": "@jupyter-widgets/controls",
     "model_name": "ProgressStyleModel",
     "state": {
      "_model_module": "@jupyter-widgets/controls",
      "_model_module_version": "1.5.0",
      "_model_name": "ProgressStyleModel",
      "_view_count": null,
      "_view_module": "@jupyter-widgets/base",
      "_view_module_version": "1.2.0",
      "_view_name": "StyleView",
      "bar_color": null,
      "description_width": "initial"
     }
    },
    "03796707c53b4a0b97ff02701ffa47f2": {
     "model_module": "@jupyter-widgets/base",
     "model_name": "LayoutModel",
     "state": {
      "_model_module": "@jupyter-widgets/base",
      "_model_module_version": "1.2.0",
      "_model_name": "LayoutModel",
      "_view_count": null,
      "_view_module": "@jupyter-widgets/base",
      "_view_module_version": "1.2.0",
      "_view_name": "LayoutView",
      "align_content": null,
      "align_items": null,
      "align_self": null,
      "border": null,
      "bottom": null,
      "display": null,
      "flex": null,
      "flex_flow": null,
      "grid_area": null,
      "grid_auto_columns": null,
      "grid_auto_flow": null,
      "grid_auto_rows": null,
      "grid_column": null,
      "grid_gap": null,
      "grid_row": null,
      "grid_template_areas": null,
      "grid_template_columns": null,
      "grid_template_rows": null,
      "height": null,
      "justify_content": null,
      "justify_items": null,
      "left": null,
      "margin": null,
      "max_height": null,
      "max_width": null,
      "min_height": null,
      "min_width": null,
      "object_fit": null,
      "object_position": null,
      "order": null,
      "overflow": null,
      "overflow_x": null,
      "overflow_y": null,
      "padding": null,
      "right": null,
      "top": null,
      "visibility": null,
      "width": null
     }
    },
    "03ef6ab0c3a44b9c9cc3086e009cfdbf": {
     "model_module": "@jupyter-widgets/base",
     "model_name": "LayoutModel",
     "state": {
      "_model_module": "@jupyter-widgets/base",
      "_model_module_version": "1.2.0",
      "_model_name": "LayoutModel",
      "_view_count": null,
      "_view_module": "@jupyter-widgets/base",
      "_view_module_version": "1.2.0",
      "_view_name": "LayoutView",
      "align_content": null,
      "align_items": null,
      "align_self": null,
      "border": null,
      "bottom": null,
      "display": null,
      "flex": null,
      "flex_flow": null,
      "grid_area": null,
      "grid_auto_columns": null,
      "grid_auto_flow": null,
      "grid_auto_rows": null,
      "grid_column": null,
      "grid_gap": null,
      "grid_row": null,
      "grid_template_areas": null,
      "grid_template_columns": null,
      "grid_template_rows": null,
      "height": null,
      "justify_content": null,
      "justify_items": null,
      "left": null,
      "margin": null,
      "max_height": null,
      "max_width": null,
      "min_height": null,
      "min_width": null,
      "object_fit": null,
      "object_position": null,
      "order": null,
      "overflow": null,
      "overflow_x": null,
      "overflow_y": null,
      "padding": null,
      "right": null,
      "top": null,
      "visibility": null,
      "width": null
     }
    },
    "07897f627e894dbda1d8e8b135934268": {
     "model_module": "@jupyter-widgets/base",
     "model_name": "LayoutModel",
     "state": {
      "_model_module": "@jupyter-widgets/base",
      "_model_module_version": "1.2.0",
      "_model_name": "LayoutModel",
      "_view_count": null,
      "_view_module": "@jupyter-widgets/base",
      "_view_module_version": "1.2.0",
      "_view_name": "LayoutView",
      "align_content": null,
      "align_items": null,
      "align_self": null,
      "border": null,
      "bottom": null,
      "display": null,
      "flex": null,
      "flex_flow": null,
      "grid_area": null,
      "grid_auto_columns": null,
      "grid_auto_flow": null,
      "grid_auto_rows": null,
      "grid_column": null,
      "grid_gap": null,
      "grid_row": null,
      "grid_template_areas": null,
      "grid_template_columns": null,
      "grid_template_rows": null,
      "height": null,
      "justify_content": null,
      "justify_items": null,
      "left": null,
      "margin": null,
      "max_height": null,
      "max_width": null,
      "min_height": null,
      "min_width": null,
      "object_fit": null,
      "object_position": null,
      "order": null,
      "overflow": null,
      "overflow_x": null,
      "overflow_y": null,
      "padding": null,
      "right": null,
      "top": null,
      "visibility": null,
      "width": null
     }
    },
    "31aa2da52ef546f0b95581b72d7620fd": {
     "model_module": "@jupyter-widgets/base",
     "model_name": "LayoutModel",
     "state": {
      "_model_module": "@jupyter-widgets/base",
      "_model_module_version": "1.2.0",
      "_model_name": "LayoutModel",
      "_view_count": null,
      "_view_module": "@jupyter-widgets/base",
      "_view_module_version": "1.2.0",
      "_view_name": "LayoutView",
      "align_content": null,
      "align_items": null,
      "align_self": null,
      "border": null,
      "bottom": null,
      "display": null,
      "flex": null,
      "flex_flow": null,
      "grid_area": null,
      "grid_auto_columns": null,
      "grid_auto_flow": null,
      "grid_auto_rows": null,
      "grid_column": null,
      "grid_gap": null,
      "grid_row": null,
      "grid_template_areas": null,
      "grid_template_columns": null,
      "grid_template_rows": null,
      "height": null,
      "justify_content": null,
      "justify_items": null,
      "left": null,
      "margin": null,
      "max_height": null,
      "max_width": null,
      "min_height": null,
      "min_width": null,
      "object_fit": null,
      "object_position": null,
      "order": null,
      "overflow": null,
      "overflow_x": null,
      "overflow_y": null,
      "padding": null,
      "right": null,
      "top": null,
      "visibility": null,
      "width": null
     }
    },
    "49ba6090737f4fdd9a98a03c661ae580": {
     "model_module": "@jupyter-widgets/controls",
     "model_name": "DescriptionStyleModel",
     "state": {
      "_model_module": "@jupyter-widgets/controls",
      "_model_module_version": "1.5.0",
      "_model_name": "DescriptionStyleModel",
      "_view_count": null,
      "_view_module": "@jupyter-widgets/base",
      "_view_module_version": "1.2.0",
      "_view_name": "StyleView",
      "description_width": ""
     }
    },
    "58e4758363df45e6809a76ec840b5f4a": {
     "model_module": "@jupyter-widgets/base",
     "model_name": "LayoutModel",
     "state": {
      "_model_module": "@jupyter-widgets/base",
      "_model_module_version": "1.2.0",
      "_model_name": "LayoutModel",
      "_view_count": null,
      "_view_module": "@jupyter-widgets/base",
      "_view_module_version": "1.2.0",
      "_view_name": "LayoutView",
      "align_content": null,
      "align_items": null,
      "align_self": null,
      "border": null,
      "bottom": null,
      "display": null,
      "flex": null,
      "flex_flow": null,
      "grid_area": null,
      "grid_auto_columns": null,
      "grid_auto_flow": null,
      "grid_auto_rows": null,
      "grid_column": null,
      "grid_gap": null,
      "grid_row": null,
      "grid_template_areas": null,
      "grid_template_columns": null,
      "grid_template_rows": null,
      "height": null,
      "justify_content": null,
      "justify_items": null,
      "left": null,
      "margin": null,
      "max_height": null,
      "max_width": null,
      "min_height": null,
      "min_width": null,
      "object_fit": null,
      "object_position": null,
      "order": null,
      "overflow": null,
      "overflow_x": null,
      "overflow_y": null,
      "padding": null,
      "right": null,
      "top": null,
      "visibility": null,
      "width": null
     }
    },
    "6d167facf9194838bbebe24699710f34": {
     "model_module": "@jupyter-widgets/base",
     "model_name": "LayoutModel",
     "state": {
      "_model_module": "@jupyter-widgets/base",
      "_model_module_version": "1.2.0",
      "_model_name": "LayoutModel",
      "_view_count": null,
      "_view_module": "@jupyter-widgets/base",
      "_view_module_version": "1.2.0",
      "_view_name": "LayoutView",
      "align_content": null,
      "align_items": null,
      "align_self": null,
      "border": null,
      "bottom": null,
      "display": null,
      "flex": null,
      "flex_flow": null,
      "grid_area": null,
      "grid_auto_columns": null,
      "grid_auto_flow": null,
      "grid_auto_rows": null,
      "grid_column": null,
      "grid_gap": null,
      "grid_row": null,
      "grid_template_areas": null,
      "grid_template_columns": null,
      "grid_template_rows": null,
      "height": null,
      "justify_content": null,
      "justify_items": null,
      "left": null,
      "margin": null,
      "max_height": null,
      "max_width": null,
      "min_height": null,
      "min_width": null,
      "object_fit": null,
      "object_position": null,
      "order": null,
      "overflow": null,
      "overflow_x": null,
      "overflow_y": null,
      "padding": null,
      "right": null,
      "top": null,
      "visibility": null,
      "width": null
     }
    },
    "824cf6b2173144c7988b1d040fa27f45": {
     "model_module": "@jupyter-widgets/controls",
     "model_name": "ProgressStyleModel",
     "state": {
      "_model_module": "@jupyter-widgets/controls",
      "_model_module_version": "1.5.0",
      "_model_name": "ProgressStyleModel",
      "_view_count": null,
      "_view_module": "@jupyter-widgets/base",
      "_view_module_version": "1.2.0",
      "_view_name": "StyleView",
      "bar_color": null,
      "description_width": "initial"
     }
    },
    "8b6727b4de9d473dbcc85732fc7fb256": {
     "model_module": "@jupyter-widgets/controls",
     "model_name": "HBoxModel",
     "state": {
      "_dom_classes": [],
      "_model_module": "@jupyter-widgets/controls",
      "_model_module_version": "1.5.0",
      "_model_name": "HBoxModel",
      "_view_count": null,
      "_view_module": "@jupyter-widgets/controls",
      "_view_module_version": "1.5.0",
      "_view_name": "HBoxView",
      "box_style": "",
      "children": [
       "IPY_MODEL_fedc2a73f69d4f3c86ab224216dea4c3",
       "IPY_MODEL_a09c9db8ef54409a8e1173da51bad11d"
      ],
      "layout": "IPY_MODEL_03796707c53b4a0b97ff02701ffa47f2"
     }
    },
    "a09c9db8ef54409a8e1173da51bad11d": {
     "model_module": "@jupyter-widgets/controls",
     "model_name": "HTMLModel",
     "state": {
      "_dom_classes": [],
      "_model_module": "@jupyter-widgets/controls",
      "_model_module_version": "1.5.0",
      "_model_name": "HTMLModel",
      "_view_count": null,
      "_view_module": "@jupyter-widgets/controls",
      "_view_module_version": "1.5.0",
      "_view_name": "HTMLView",
      "description": "",
      "description_tooltip": null,
      "layout": "IPY_MODEL_31aa2da52ef546f0b95581b72d7620fd",
      "placeholder": "​",
      "style": "IPY_MODEL_49ba6090737f4fdd9a98a03c661ae580",
      "value": " 614/614 [01:53&lt;00:00,  5.40it/s]"
     }
    },
    "a0aa24001864419b908077440f5288b2": {
     "model_module": "@jupyter-widgets/controls",
     "model_name": "HTMLModel",
     "state": {
      "_dom_classes": [],
      "_model_module": "@jupyter-widgets/controls",
      "_model_module_version": "1.5.0",
      "_model_name": "HTMLModel",
      "_view_count": null,
      "_view_module": "@jupyter-widgets/controls",
      "_view_module_version": "1.5.0",
      "_view_name": "HTMLView",
      "description": "",
      "description_tooltip": null,
      "layout": "IPY_MODEL_58e4758363df45e6809a76ec840b5f4a",
      "placeholder": "​",
      "style": "IPY_MODEL_d9096986ff62408dab566fdf0a2dbe70",
      "value": " 614/614 [01:52&lt;00:00,  5.44it/s]"
     }
    },
    "c84834fe41d4466f9ba3f6549e96df52": {
     "model_module": "@jupyter-widgets/controls",
     "model_name": "HBoxModel",
     "state": {
      "_dom_classes": [],
      "_model_module": "@jupyter-widgets/controls",
      "_model_module_version": "1.5.0",
      "_model_name": "HBoxModel",
      "_view_count": null,
      "_view_module": "@jupyter-widgets/controls",
      "_view_module_version": "1.5.0",
      "_view_name": "HBoxView",
      "box_style": "",
      "children": [
       "IPY_MODEL_d23800895d184941bcacc6ae72dec01d",
       "IPY_MODEL_a0aa24001864419b908077440f5288b2"
      ],
      "layout": "IPY_MODEL_6d167facf9194838bbebe24699710f34"
     }
    },
    "d23800895d184941bcacc6ae72dec01d": {
     "model_module": "@jupyter-widgets/controls",
     "model_name": "FloatProgressModel",
     "state": {
      "_dom_classes": [],
      "_model_module": "@jupyter-widgets/controls",
      "_model_module_version": "1.5.0",
      "_model_name": "FloatProgressModel",
      "_view_count": null,
      "_view_module": "@jupyter-widgets/controls",
      "_view_module_version": "1.5.0",
      "_view_name": "ProgressView",
      "bar_style": "success",
      "description": "100%",
      "description_tooltip": null,
      "layout": "IPY_MODEL_07897f627e894dbda1d8e8b135934268",
      "max": 614,
      "min": 0,
      "orientation": "horizontal",
      "style": "IPY_MODEL_02e40e4d5acc445aaf8df620f9c1bde8",
      "value": 614
     }
    },
    "d9096986ff62408dab566fdf0a2dbe70": {
     "model_module": "@jupyter-widgets/controls",
     "model_name": "DescriptionStyleModel",
     "state": {
      "_model_module": "@jupyter-widgets/controls",
      "_model_module_version": "1.5.0",
      "_model_name": "DescriptionStyleModel",
      "_view_count": null,
      "_view_module": "@jupyter-widgets/base",
      "_view_module_version": "1.2.0",
      "_view_name": "StyleView",
      "description_width": ""
     }
    },
    "fedc2a73f69d4f3c86ab224216dea4c3": {
     "model_module": "@jupyter-widgets/controls",
     "model_name": "FloatProgressModel",
     "state": {
      "_dom_classes": [],
      "_model_module": "@jupyter-widgets/controls",
      "_model_module_version": "1.5.0",
      "_model_name": "FloatProgressModel",
      "_view_count": null,
      "_view_module": "@jupyter-widgets/controls",
      "_view_module_version": "1.5.0",
      "_view_name": "ProgressView",
      "bar_style": "success",
      "description": "100%",
      "description_tooltip": null,
      "layout": "IPY_MODEL_03ef6ab0c3a44b9c9cc3086e009cfdbf",
      "max": 614,
      "min": 0,
      "orientation": "horizontal",
      "style": "IPY_MODEL_824cf6b2173144c7988b1d040fa27f45",
      "value": 614
     }
    }
   }
  }
 },
 "nbformat": 4,
 "nbformat_minor": 1
}
